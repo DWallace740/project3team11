{
 "cells": [
  {
   "cell_type": "code",
   "execution_count": 24,
   "metadata": {},
   "outputs": [
    {
     "name": "stdout",
     "output_type": "stream",
     "text": [
      "   YearStart  YearEnd LocationAbbr LocationDesc DataSource     Topic  \\\n",
      "0       2019     2019           AR     Arkansas      BRFSS  Diabetes   \n",
      "1       2019     2019           ID        Idaho      BRFSS  Diabetes   \n",
      "2       2019     2019           IN      Indiana      YRBSS     Sleep   \n",
      "3       2019     2019           IA         Iowa       NVSS    Asthma   \n",
      "4       2019     2019           IA         Iowa      BRFSS    Asthma   \n",
      "\n",
      "                                            Question  Response DataValueUnit  \\\n",
      "0                              Diabetes among adults       NaN             %   \n",
      "1                              Diabetes among adults       NaN             %   \n",
      "2    Short sleep duration among high school students       NaN             %   \n",
      "3  Asthma mortality among all people, underlying ...       NaN        Number   \n",
      "4                        Current asthma among adults       NaN             %   \n",
      "\n",
      "      DataValueType  ...  TopicID  QuestionID ResponseID DataValueTypeID  \\\n",
      "0  Crude Prevalence  ...      DIA       DIA01        NaN         CRDPREV   \n",
      "1  Crude Prevalence  ...      DIA       DIA01        NaN         CRDPREV   \n",
      "2  Crude Prevalence  ...     SLEP       SLP02        NaN         CRDPREV   \n",
      "3            Number  ...      AST       AST01        NaN            NMBR   \n",
      "4  Crude Prevalence  ...      AST       AST02        NaN         CRDPREV   \n",
      "\n",
      "   StratificationCategoryID1  StratificationID1 StratificationCategoryID2  \\\n",
      "0                        SEX               SEXM                       NaN   \n",
      "1                        SEX               SEXM                       NaN   \n",
      "2                      GRADE              GRD12                       NaN   \n",
      "3                    OVERALL                OVR                       NaN   \n",
      "4                        AGE            AGE1844                       NaN   \n",
      "\n",
      "  StratificationID2  StratificationCategoryID3  StratificationID3  \n",
      "0               NaN                        NaN                NaN  \n",
      "1               NaN                        NaN                NaN  \n",
      "2               NaN                        NaN                NaN  \n",
      "3               NaN                        NaN                NaN  \n",
      "4               NaN                        NaN                NaN  \n",
      "\n",
      "[5 rows x 34 columns]\n"
     ]
    }
   ],
   "source": [
    "import pandas as pd\n",
    "\n",
    "# File path (replace with your actual file path if not in the same directory)\n",
    "file_path = 'U.S._Chronic_Disease_Indicators.csv'\n",
    "\n",
    "# Read the dataset into a pandas DataFrame\n",
    "data = pd.read_csv(file_path)\n",
    "\n",
    "# Display the first few rows to understand the structure\n",
    "print(data.head())"
   ]
  },
  {
   "cell_type": "code",
   "execution_count": 25,
   "metadata": {},
   "outputs": [],
   "source": [
    "# Drop irrelevant columns\n",
    "columns_to_drop = [\n",
    "    'Response', 'DataValueFootnoteSymbol', 'DataValueFootnote', \n",
    "    'StratificationCategory2', 'Stratification2', 'StratificationCategory3', \n",
    "    'Stratification3', 'ResponseID', 'StratificationID2', \n",
    "    'StratificationCategoryID3', 'StratificationID3'\n",
    "]\n",
    "data_cleaned = data.drop(columns=columns_to_drop)"
   ]
  },
  {
   "cell_type": "code",
   "execution_count": 26,
   "metadata": {},
   "outputs": [],
   "source": [
    "# Handle missing values\n",
    "data_cleaned = data_cleaned.dropna(subset=['DataValue'])  # Drop rows where DataValue is missing\n",
    "\n",
    "# Rename columns for clarity\n",
    "data_cleaned = data_cleaned.rename(columns={\n",
    "    'LocationAbbr': 'State',\n",
    "    'LocationDesc': 'StateName',\n",
    "    'DataValue': 'Value',\n",
    "    'YearStart': 'Year'\n",
    "})\n"
   ]
  },
  {
   "cell_type": "code",
   "execution_count": 27,
   "metadata": {},
   "outputs": [
    {
     "name": "stderr",
     "output_type": "stream",
     "text": [
      "C:\\Users\\info\\AppData\\Local\\Temp\\ipykernel_28076\\720002467.py:7: SettingWithCopyWarning: \n",
      "A value is trying to be set on a copy of a slice from a DataFrame.\n",
      "Try using .loc[row_indexer,col_indexer] = value instead\n",
      "\n",
      "See the caveats in the documentation: https://pandas.pydata.org/pandas-docs/stable/user_guide/indexing.html#returning-a-view-versus-a-copy\n",
      "  data_filtered[['Latitude', 'Longitude']] = data_filtered['Geolocation'].str.extract(r'\\((.+), (.+)\\)')\n",
      "C:\\Users\\info\\AppData\\Local\\Temp\\ipykernel_28076\\720002467.py:7: SettingWithCopyWarning: \n",
      "A value is trying to be set on a copy of a slice from a DataFrame.\n",
      "Try using .loc[row_indexer,col_indexer] = value instead\n",
      "\n",
      "See the caveats in the documentation: https://pandas.pydata.org/pandas-docs/stable/user_guide/indexing.html#returning-a-view-versus-a-copy\n",
      "  data_filtered[['Latitude', 'Longitude']] = data_filtered['Geolocation'].str.extract(r'\\((.+), (.+)\\)')\n"
     ]
    },
    {
     "name": "stdout",
     "output_type": "stream",
     "text": [
      "                                     Geolocation   Latitude   Longitude\n",
      "0   POINT (-92.27449074299966 34.74865012400045)  34.748650  -92.274491\n",
      "1  POINT (-114.3637300419997 43.682630005000476)  43.682630 -114.363730\n",
      "2  POINT (-86.14996019399968 39.766910452000445)  39.766910  -86.149960\n",
      "3   POINT (-93.81649055599968 42.46940091300047)  42.469401  -93.816491\n",
      "4   POINT (-93.81649055599968 42.46940091300047)  42.469401  -93.816491\n"
     ]
    }
   ],
   "source": [
    "# Filter for relevant topics (e.g., Diabetes)\n",
    "data_filtered = data_cleaned[data_cleaned['Topic'] == 'Diabetes']\n",
    "\n",
    "# Check and clean geolocation data\n",
    "if 'Geolocation' in data_filtered.columns:\n",
    "    # Extract latitude and longitude from Geolocation column\n",
    "    data_filtered[['Latitude', 'Longitude']] = data_filtered['Geolocation'].str.extract(r'\\((.+), (.+)\\)')\n",
    "\n",
    "    # Extract latitude and longitude from Geolocation column\n",
    "data[['Longitude', 'Latitude']] = data['Geolocation'].str.extract(r'POINT \\((-?\\d+\\.\\d+) (-?\\d+\\.\\d+)\\)')\n",
    "\n",
    "# Convert the Latitude and Longitude columns to numeric types\n",
    "data['Latitude'] = pd.to_numeric(data['Latitude'], errors='coerce')\n",
    "data['Longitude'] = pd.to_numeric(data['Longitude'], errors='coerce')\n",
    "\n",
    "# Verify the extracted columns\n",
    "print(data[['Geolocation', 'Latitude', 'Longitude']].head())\n"
   ]
  },
  {
   "cell_type": "code",
   "execution_count": 28,
   "metadata": {},
   "outputs": [
    {
     "name": "stdout",
     "output_type": "stream",
     "text": [
      "   Year\n",
      "0  2019\n",
      "1  2019\n",
      "2  2019\n",
      "3  2019\n",
      "4  2019\n"
     ]
    }
   ],
   "source": [
    "# Combine YearStart and YearEnd into a single column\n",
    "data['Year'] = data['YearStart']  # Use YearStart since they are the same\n",
    "\n",
    "# Drop the now redundant YearStart and YearEnd columns\n",
    "data = data.drop(columns=['YearStart', 'YearEnd'])\n",
    "\n",
    "# Preview the dataset to confirm changes\n",
    "print(data[['Year']].head())"
   ]
  },
  {
   "cell_type": "code",
   "execution_count": 29,
   "metadata": {},
   "outputs": [],
   "source": [
    "data.to_csv('cleaned_chronic_disease_data_ddw.csv', index=False)\n"
   ]
  }
 ],
 "metadata": {
  "kernelspec": {
   "display_name": "dev",
   "language": "python",
   "name": "python3"
  },
  "language_info": {
   "codemirror_mode": {
    "name": "ipython",
    "version": 3
   },
   "file_extension": ".py",
   "mimetype": "text/x-python",
   "name": "python",
   "nbconvert_exporter": "python",
   "pygments_lexer": "ipython3",
   "version": "3.10.15"
  }
 },
 "nbformat": 4,
 "nbformat_minor": 2
}
